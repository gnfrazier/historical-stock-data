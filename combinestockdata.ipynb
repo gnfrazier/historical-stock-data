{
 "cells": [
  {
   "cell_type": "code",
   "execution_count": 1,
   "metadata": {},
   "outputs": [],
   "source": [
    "from bs4 import BeautifulSoup\n",
    "import glob\n",
    "import pandas as pd\n",
    "import requests\n"
   ]
  },
  {
   "cell_type": "code",
   "execution_count": 2,
   "metadata": {},
   "outputs": [],
   "source": [
    "files = glob.glob(\"*.csv\")\n",
    "\n",
    "# prevent reprocessing the output file\n",
    "files.remove('stocks.csv')\n",
    "files.remove('stocks_pivoted.csv')\n",
    "files.remove('we_stocks_pivoted.csv')\n"
   ]
  },
  {
   "cell_type": "code",
   "execution_count": 3,
   "metadata": {},
   "outputs": [],
   "source": [
    "def extract_stock_name(uri):\n",
    "    \n",
    "    html = requests.get(uri)\n",
    "\n",
    "    soup = BeautifulSoup(html.text, 'html.parser')\n",
    "\n",
    "    raw_title = soup.title.string\n",
    "\n",
    "    stock_name = raw_title.split(' Historical')[0]\n",
    "    \n",
    "    return stock_name"
   ]
  },
  {
   "cell_type": "code",
   "execution_count": 4,
   "metadata": {},
   "outputs": [],
   "source": [
    "file = files[3]\n",
    "data = {}\n",
    "\n",
    "for file in files:\n",
    "\n",
    "    # Extract the stock symbol from the file name\n",
    "    name = file.replace(\".csv\", \"\")\n",
    "        \n",
    "    # Load the data frame\n",
    "    df = pd.read_csv(file)\n",
    "\n",
    "    # Add the stock symbol as a value to the symbol column\n",
    "    df['Symbol'] = name.upper()\n",
    "    \n",
    "    url = 'https://www.nasdaq.com/market-activity/stocks/' + name + '/historical'\n",
    "    \n",
    "    # Add data source reference\n",
    "    df['Data Source'] = url\n",
    "    \n",
    "    # Add official stock name\n",
    "    df['Stock Name'] = extract_stock_name(url)\n",
    "\n",
    "    # Convert the date column to datetime data type\n",
    "    df['Date'] = pd.to_datetime(df['Date'])\n",
    "\n",
    "    # Convert the price column to a decimal number\n",
    "    try:\n",
    "        df[' Close/Last'] = df[' Close/Last'].str.strip(' $').astype(float)\n",
    "        \n",
    "    except AttributeError:\n",
    "        # the indexes are not passed as a dollar value\n",
    "        df[' Close/Last'] = df[' Close/Last'].astype(float)\n",
    "        \n",
    "\n",
    "    # Extract the closing price of the earliest date in the data frame\n",
    "    first_value = df[' Close/Last'][(df['Date'] == df['Date'].min()) == True].squeeze()\n",
    "\n",
    "    # Calculate the percent change column\n",
    "    df['percent_change'] = df[' Close/Last']/first_value * 100\n",
    "\n",
    "    # Convert to a integer\n",
    "    df['percent_change'] = df['percent_change'].astype(int)\n",
    "\n",
    "    # Add the dataframe to the dictionary, using the symbol for the key\n",
    "    data[name] = df\n"
   ]
  },
  {
   "cell_type": "code",
   "execution_count": 5,
   "metadata": {},
   "outputs": [],
   "source": [
    "# Combine the dataframes into a single dataset\n",
    "all_symbols = pd.concat(data.values())\n",
    "\n",
    "all_symbols['Day of Week'] = all_symbols['Date'].dt.dayofweek\n",
    "\n",
    "# Output the dataset to csv\n",
    "all_symbols.to_csv('stocks.csv')\n",
    "\n",
    "\n"
   ]
  },
  {
   "cell_type": "code",
   "execution_count": 6,
   "metadata": {},
   "outputs": [],
   "source": [
    "# In flourish using daily data renders too slowly. Go with week ending close dates.\n",
    "\n",
    "week_ending = all_symbols[(all_symbols['Day of Week'] == 4) == True]\n"
   ]
  },
  {
   "cell_type": "code",
   "execution_count": 7,
   "metadata": {},
   "outputs": [],
   "source": [
    "# Pivot the data sets to match the recommended format for Florish\n",
    "\n",
    "table = pd.pivot_table(all_symbols, values='percent_change', index=['Symbol','Stock Name', 'Data Source'],\n",
    "                     columns=['Date'], fill_value= 0, aggfunc=max)\n",
    "\n",
    "week_close = pd.pivot_table(week_ending, values='percent_change', index=['Symbol','Stock Name', 'Data Source'],\n",
    "                     columns=['Date'], fill_value= 0, aggfunc=max)"
   ]
  },
  {
   "cell_type": "code",
   "execution_count": 8,
   "metadata": {},
   "outputs": [],
   "source": [
    "table.to_csv('stocks_pivoted.csv')\n",
    "week_close.to_csv('we_stocks_pivoted.csv')\n"
   ]
  }
 ],
 "metadata": {
  "kernelspec": {
   "display_name": "Python 3",
   "language": "python",
   "name": "python3"
  },
  "language_info": {
   "codemirror_mode": {
    "name": "ipython",
    "version": 3
   },
   "file_extension": ".py",
   "mimetype": "text/x-python",
   "name": "python",
   "nbconvert_exporter": "python",
   "pygments_lexer": "ipython3",
   "version": "3.7.1"
  }
 },
 "nbformat": 4,
 "nbformat_minor": 2
}
